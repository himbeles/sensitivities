{
 "cells": [
  {
   "cell_type": "markdown",
   "metadata": {},
   "source": [
    "# Stochastic simulation of gaussian argument variation"
   ]
  },
  {
   "cell_type": "markdown",
   "metadata": {},
   "source": [
    "RLU 2020\n",
    "\n",
    "Uses Python decorator for input function manipulation"
   ]
  },
  {
   "cell_type": "code",
   "execution_count": 16,
   "metadata": {},
   "outputs": [],
   "source": [
    "from stochastic_simulation import gaussian_argument_variation\n",
    "import numpy as np"
   ]
  },
  {
   "cell_type": "code",
   "execution_count": 17,
   "metadata": {},
   "outputs": [
    {
     "data": {
      "text/plain": [
       "\u001b[1;31mSignature:\u001b[0m \u001b[0mgaussian_argument_variation\u001b[0m\u001b[1;33m(\u001b[0m\u001b[0mstd\u001b[0m\u001b[1;33m,\u001b[0m \u001b[0mn\u001b[0m\u001b[1;33m=\u001b[0m\u001b[1;36m100\u001b[0m\u001b[1;33m)\u001b[0m\u001b[1;33m\u001b[0m\u001b[1;33m\u001b[0m\u001b[0m\n",
       "\u001b[1;31mDocstring:\u001b[0m\n",
       "Function decorator that varies input arguments of a given function stochastically and produces a list of function returns for every stochastic iteration. \n",
       "\n",
       "Args:\n",
       "    std (dict) : dictionary that specifies the std. deviation for selected function arguments, e.g. {\"a\":3, \"c\"=4}\n",
       "    n (int) : number of stochastic samples\n",
       "Returns:\n",
       "    (array) : an array of length n with the function return values for the stochastically varied inputs\n",
       "\u001b[1;31mFile:\u001b[0m      w:\\irs\\stm post-env\\stochastic_simulation\\stochastic_simulation.py\n",
       "\u001b[1;31mType:\u001b[0m      function\n"
      ]
     },
     "metadata": {},
     "output_type": "display_data"
    }
   ],
   "source": [
    "gaussian_argument_variation?"
   ]
  },
  {
   "cell_type": "markdown",
   "metadata": {},
   "source": [
    "let's define a simple test function"
   ]
  },
  {
   "cell_type": "code",
   "execution_count": 18,
   "metadata": {},
   "outputs": [
    {
     "data": {
      "text/plain": [
       "[3, 4, 7]"
      ]
     },
     "execution_count": 18,
     "metadata": {},
     "output_type": "execute_result"
    }
   ],
   "source": [
    "def func(a,b,k=5):\n",
    "    return [a,b**2,k]\n",
    "\n",
    "func(3,2,k=7)"
   ]
  },
  {
   "cell_type": "markdown",
   "metadata": {},
   "source": [
    "now, we define the same function but apply the decorator that varies some of the input arguments stochastically: "
   ]
  },
  {
   "cell_type": "code",
   "execution_count": 19,
   "metadata": {},
   "outputs": [
    {
     "data": {
      "text/plain": [
       "[[2.4504875932721144, 4, 6.899561028179259],\n",
       " [3.1285257168285083, 4, 7.08282071045253],\n",
       " [3.326626005974475, 4, 7.00662590860468],\n",
       " [2.6823538819321837, 4, 7.11487971771787],\n",
       " [3.338251885354086, 4, 6.911133534515973],\n",
       " [2.9708753197704336, 4, 7.008026389302413],\n",
       " [3.408710401956985, 4, 6.886103232622139],\n",
       " [2.805024551473274, 4, 7.087421557182125],\n",
       " [2.9934343962331864, 4, 7.052639700847925],\n",
       " [3.002972665191286, 4, 6.92689156640575]]"
      ]
     },
     "execution_count": 19,
     "metadata": {},
     "output_type": "execute_result"
    }
   ],
   "source": [
    "@gaussian_argument_variation(std={\"a\":0.3, \"k\":0.1}, n=10)\n",
    "def func_gaussian(a,b,k=5):\n",
    "    return [a,b**2,k]\n",
    "\n",
    "func_gaussian(3,2,k=7)"
   ]
  },
  {
   "cell_type": "markdown",
   "metadata": {},
   "source": [
    "we can calculate the standard deviation over the iterations"
   ]
  },
  {
   "cell_type": "code",
   "execution_count": 20,
   "metadata": {},
   "outputs": [
    {
     "data": {
      "text/plain": [
       "array([0.26686196, 0.        , 0.05606053])"
      ]
     },
     "execution_count": 20,
     "metadata": {},
     "output_type": "execute_result"
    }
   ],
   "source": [
    "np.std(func_gaussian(3,2,k=7),0)"
   ]
  },
  {
   "cell_type": "markdown",
   "metadata": {},
   "source": [
    "the decorator can also be applied around an existing function definition like this"
   ]
  },
  {
   "cell_type": "code",
   "execution_count": 21,
   "metadata": {},
   "outputs": [
    {
     "data": {
      "text/plain": [
       "[[0.8232932132907298, 4, 6.999419843198],\n",
       " [1.385119777288684, 4, 7.113285219638561],\n",
       " [1.7300868290328204, 4, 7.04766545684648],\n",
       " [0.9250722033425981, 4, 6.722127458560022],\n",
       " [1.0834964221023173, 4, 6.83781905223777],\n",
       " [1.7436948030946868, 4, 6.911301900770874],\n",
       " [1.2365014752389443, 4, 7.069778884127274],\n",
       " [1.3910564971403887, 4, 7.119419826737453],\n",
       " [0.8172399625309278, 4, 7.271043445074946],\n",
       " [0.5373253095518593, 4, 7.2502443422386955]]"
      ]
     },
     "execution_count": 21,
     "metadata": {},
     "output_type": "execute_result"
    }
   ],
   "source": [
    "gaussian_argument_variation(std={\"a\":0.5, \"k\":0.1}, n=10)(func)(1,2,k=7)"
   ]
  },
  {
   "cell_type": "markdown",
   "metadata": {},
   "source": [
    "The decorator also supports vector arguments for functions"
   ]
  },
  {
   "cell_type": "code",
   "execution_count": 22,
   "metadata": {},
   "outputs": [
    {
     "data": {
      "text/plain": [
       "[[array([1.85759295, 3.61769391, 2.51584373]), 4, 6.841876923030057],\n",
       " [array([0.52945708, 4.21477278, 2.93775449]), 4, 7.0544419912309815],\n",
       " [array([1.02931459, 4.27616402, 3.60385061]), 4, 6.925585021834787],\n",
       " [array([1.1606589 , 4.7645701 , 2.99378903]), 4, 7.011221668465246],\n",
       " [array([1.05155928, 4.64348487, 3.47454909]), 4, 7.025372041911663],\n",
       " [array([0.91542611, 4.08537384, 3.86835004]), 4, 6.986043135791207],\n",
       " [array([1.88038583, 4.24155264, 2.45301343]), 4, 7.122831016761329],\n",
       " [array([1.52023307, 3.47333637, 3.86868275]), 4, 7.212016043788345],\n",
       " [array([1.40732386, 4.04734464, 3.40294083]), 4, 7.159992583973934],\n",
       " [array([0.96665512, 4.09829805, 3.0811317 ]), 4, 6.8290553299447225]]"
      ]
     },
     "execution_count": 22,
     "metadata": {},
     "output_type": "execute_result"
    }
   ],
   "source": [
    "gaussian_argument_variation(std={\"a\":0.5, \"k\":0.1}, n=10)(func)([1,4,3],2,k=7)"
   ]
  },
  {
   "cell_type": "markdown",
   "metadata": {},
   "source": [
    "as well as for the variation input"
   ]
  },
  {
   "cell_type": "code",
   "execution_count": 31,
   "metadata": {},
   "outputs": [
    {
     "data": {
      "text/plain": [
       "[[array([0.74263305, 4.        , 2.99028542]), 4, 7.027612200055036],\n",
       " [array([-15.57808996,   4.        ,   2.99684568]), 4, 6.92832840945257],\n",
       " [array([-5.6011423 ,  4.        ,  2.98968551]), 4, 6.958117801597785],\n",
       " [array([21.46233204,  4.        ,  3.02834276]), 4, 6.936602832270564],\n",
       " [array([-5.20632849,  4.        ,  2.99539424]), 4, 6.896160955287744],\n",
       " [array([-2.48560596,  4.        ,  2.99375396]), 4, 6.923288433958185],\n",
       " [array([-11.15205772,   4.        ,   2.99461709]), 4, 6.9676798030704274],\n",
       " [array([-6.59770527,  4.        ,  2.99590766]), 4, 7.193138919728137],\n",
       " [array([-2.29984251,  4.        ,  2.99253741]), 4, 6.680601026986434],\n",
       " [array([5.69446841, 4.        , 2.99007723]), 4, 7.09252309586086],\n",
       " [array([8.15582524, 4.        , 2.99174545]), 4, 6.89208588877097],\n",
       " [array([5.13952637, 4.        , 3.00421383]), 4, 6.912962944056953],\n",
       " [array([-14.21904104,   4.        ,   2.99905081]), 4, 6.890331203394365],\n",
       " [array([-3.28167757,  4.        ,  2.98784381]), 4, 7.105171344406797],\n",
       " [array([-8.46109174,  4.        ,  3.00801981]), 4, 7.259036660362386],\n",
       " [array([-15.07198006,   4.        ,   3.01268005]), 4, 7.110253858634498],\n",
       " [array([20.376383 ,  4.       ,  2.9834359]), 4, 7.082963502508039],\n",
       " [array([7.3124347 , 4.        , 3.00667084]), 4, 6.969113426487929],\n",
       " [array([26.0449772 ,  4.        ,  2.99366051]), 4, 7.091467597410543],\n",
       " [array([-2.98614327,  4.        ,  3.01248473]), 4, 6.950515392542509],\n",
       " [array([15.88909174,  4.        ,  2.99691973]), 4, 6.929214301287309],\n",
       " [array([10.37128146,  4.        ,  2.99825603]), 4, 6.976959325101194],\n",
       " [array([2.33092412, 4.        , 3.00517081]), 4, 7.10440153699925],\n",
       " [array([-2.66841121,  4.        ,  2.9919648 ]), 4, 7.103141612226468],\n",
       " [array([-0.64492381,  4.        ,  3.00997999]), 4, 7.002955697826316],\n",
       " [array([11.77840079,  4.        ,  3.01081972]), 4, 7.061883575278979],\n",
       " [array([17.41666356,  4.        ,  2.9917105 ]), 4, 7.125747286349012],\n",
       " [array([-13.10764503,   4.        ,   2.98327929]), 4, 7.121091606010941],\n",
       " [array([7.38889491, 4.        , 2.98764539]), 4, 6.973628450047424],\n",
       " [array([-1.7174157 ,  4.        ,  3.00771236]), 4, 6.966991714221894],\n",
       " [array([6.67532509, 4.        , 3.00524934]), 4, 7.017476183146251],\n",
       " [array([10.06438421,  4.        ,  2.99325244]), 4, 6.981674598977632],\n",
       " [array([21.50760173,  4.        ,  2.99271319]), 4, 7.030497246269323],\n",
       " [array([-14.07004936,   4.        ,   3.00255269]), 4, 7.043730373379335],\n",
       " [array([10.57092203,  4.        ,  2.99951051]), 4, 7.065640141277917],\n",
       " [array([-17.21341758,   4.        ,   3.01032371]), 4, 6.965794597178468],\n",
       " [array([-11.66484946,   4.        ,   3.00485568]), 4, 6.9387145035328635],\n",
       " [array([0.54659073, 4.        , 2.98264911]), 4, 7.093425542592267],\n",
       " [array([15.38853823,  4.        ,  2.99094017]), 4, 7.167764885322355],\n",
       " [array([-1.10117698,  4.        ,  3.01948621]), 4, 7.109089499191947],\n",
       " [array([19.71740499,  4.        ,  3.00146269]), 4, 6.962995121515414],\n",
       " [array([-0.46656501,  4.        ,  2.98517214]), 4, 7.108040354541074],\n",
       " [array([-2.83543394,  4.        ,  2.99602287]), 4, 7.028760507632966],\n",
       " [array([-7.30469351,  4.        ,  2.99262038]), 4, 7.2421975889565875],\n",
       " [array([-3.31773456,  4.        ,  3.01101252]), 4, 7.035648914559645],\n",
       " [array([-10.84098584,   4.        ,   3.00353011]), 4, 7.132399454599388],\n",
       " [array([-7.79133738,  4.        ,  2.99556377]), 4, 7.098280764995515],\n",
       " [array([5.24660294, 4.        , 3.00104155]), 4, 6.839657910202742],\n",
       " [array([-28.30489996,   4.        ,   3.00071043]), 4, 6.942537601233959],\n",
       " [array([-6.39355273,  4.        ,  2.98817596]), 4, 6.971654311090081]]"
      ]
     },
     "execution_count": 31,
     "metadata": {},
     "output_type": "execute_result"
    }
   ],
   "source": [
    "gaussian_argument_variation(std={\"a\":[10,0,0.01],\"k\":0.1}, n=50)(func)([1,4,3],2,k=7)"
   ]
  },
  {
   "cell_type": "code",
   "execution_count": null,
   "metadata": {},
   "outputs": [],
   "source": []
  }
 ],
 "metadata": {
  "kernelspec": {
   "display_name": "Python 3",
   "language": "python",
   "name": "python3"
  },
  "language_info": {
   "codemirror_mode": {
    "name": "ipython",
    "version": 3
   },
   "file_extension": ".py",
   "mimetype": "text/x-python",
   "name": "python",
   "nbconvert_exporter": "python",
   "pygments_lexer": "ipython3",
   "version": "3.7.3"
  }
 },
 "nbformat": 4,
 "nbformat_minor": 4
}
