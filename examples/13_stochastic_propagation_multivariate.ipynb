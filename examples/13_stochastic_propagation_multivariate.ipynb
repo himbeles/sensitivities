{
 "cells": [
  {
   "cell_type": "markdown",
   "metadata": {},
   "source": [
    "# Stochastic uncertainty propagation for multivariate functions"
   ]
  },
  {
   "cell_type": "code",
   "execution_count": 1,
   "metadata": {},
   "outputs": [
    {
     "data": {
      "image/png": "[encoded data removed]",
      "text/plain": [
       "<Figure size 640x480 with 1 Axes>"
      ]
     },
     "metadata": {},
     "output_type": "display_data"
    }
   ],
   "source": [
    "import matplotlib.pyplot as plt\n",
    "import numpy as np\n",
    "\n",
    "from sensitivities.stochastic import Gaussian, Uniform, sample\n",
    "\n",
    "\n",
    "def my_function(a, b):\n",
    "    return [a + b, a, b]\n",
    "\n",
    "\n",
    "uncertainties = [\n",
    "    Gaussian(3, 0.1),\n",
    "    Uniform(-1, 1),\n",
    "]\n",
    "corr = [(\"a\", \"b\", 0.0)]\n",
    "\n",
    "samples = np.array(\n",
    "    sample(\n",
    "        my_function,\n",
    "        uncertainties,\n",
    "        corr=corr,\n",
    "        n=100000,\n",
    "    )\n",
    ")\n",
    "\n",
    "plt.hist(samples, 100)\n",
    "plt.show()"
   ]
  },
  {
   "cell_type": "code",
   "execution_count": 2,
   "metadata": {},
   "outputs": [
    {
     "name": "stdout",
     "output_type": "stream",
     "text": [
      "linearly propagated uncertainty (1sigma):\n",
      "[0.58571821 0.09990067 0.57726078]\n",
      "linearly propagated correlation matrix (1sigma):\n",
      "[[ 1.          0.16932772  0.98534715]\n",
      " [ 0.16932772  1.         -0.00125133]\n",
      " [ 0.98534715 -0.00125133  1.        ]]\n"
     ]
    }
   ],
   "source": [
    "f_corr = np.corrcoef(samples.T)\n",
    "f_uncertainty = np.std(samples, axis=0)\n",
    "print(f\"linearly propagated uncertainty (1sigma):\\n{f_uncertainty}\")\n",
    "print(f\"linearly propagated correlation matrix (1sigma):\\n{f_corr}\")"
   ]
  },
  {
   "cell_type": "markdown",
   "metadata": {},
   "source": [
    "compare to uncertainty propagation from linear sensitivities "
   ]
  },
  {
   "cell_type": "code",
   "execution_count": 3,
   "metadata": {},
   "outputs": [
    {
     "name": "stdout",
     "output_type": "stream",
     "text": [
      "linearly propagated uncertainty (1sigma):\n",
      "[0.58594653 0.1        0.57735027]\n",
      "linearly propagated correlation matrix (1sigma):\n",
      "[[1.         0.17066404 0.98532928]\n",
      " [0.17066404 1.         0.        ]\n",
      " [0.98532928 0.         1.        ]]\n"
     ]
    }
   ],
   "source": [
    "from sensitivities.linear import propagate_uncertainties\n",
    "\n",
    "f_uncertainty, f_corr = propagate_uncertainties(\n",
    "    my_function,\n",
    "    uncertainties=[p.std() for p in uncertainties],\n",
    "    x0=[p.mean() for p in uncertainties],\n",
    "    corr=[[1, corr[0][2]], [corr[0][2], 1]],\n",
    ")\n",
    "\n",
    "print(f\"linearly propagated uncertainty (1sigma):\\n{f_uncertainty}\")\n",
    "print(f\"linearly propagated correlation matrix (1sigma):\\n{f_corr}\")"
   ]
  }
 ],
 "metadata": {
  "kernelspec": {
   "display_name": ".venv",
   "language": "python",
   "name": "python3"
  },
  "language_info": {
   "codemirror_mode": {
    "name": "ipython",
    "version": 3
   },
   "file_extension": ".py",
   "mimetype": "text/x-python",
   "name": "python",
   "nbconvert_exporter": "python",
   "pygments_lexer": "ipython3",
   "version": "3.13.2"
  },
  "orig_nbformat": 4
 },
 "nbformat": 4,
 "nbformat_minor": 2
}
