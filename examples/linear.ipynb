{
 "cells": [
  {
   "cell_type": "code",
   "execution_count": 12,
   "metadata": {},
   "outputs": [],
   "source": [
    "from sensitivities.linear import propagate_errors"
   ]
  },
  {
   "cell_type": "markdown",
   "metadata": {},
   "source": [
    "propagate **uncorrelated** errors"
   ]
  },
  {
   "cell_type": "code",
   "execution_count": 22,
   "metadata": {},
   "outputs": [
    {
     "name": "stdout",
     "output_type": "stream",
     "text": [
      "uncorrelated: 0.28284271247461906\n"
     ]
    }
   ],
   "source": [
    "def my_function(x, y):\n",
    "    return x + y\n",
    "\n",
    "\n",
    "print(\n",
    "    \"uncorrelated:\",\n",
    "    propagate_errors(my_function, errors=[0.2, 0.2], x0=[1, 1]),\n",
    ")"
   ]
  },
  {
   "cell_type": "markdown",
   "metadata": {},
   "source": [
    "propagate **correlated** errors"
   ]
  },
  {
   "cell_type": "code",
   "execution_count": 16,
   "metadata": {},
   "outputs": [
    {
     "name": "stdout",
     "output_type": "stream",
     "text": [
      "positively correlated: 0.30000000000000004\n",
      "negatively correlated: 0.1\n"
     ]
    }
   ],
   "source": [
    "print(\n",
    "    \"positively correlated:\",\n",
    "    propagate_errors(my_function, errors=[0.1, 0.2], x0=[1, 1], corr=[[1, 1], [1, 1]]),\n",
    ")\n",
    "print(\n",
    "    \"negatively correlated:\",\n",
    "    propagate_errors(\n",
    "        my_function, errors=[0.1, 0.2], x0=[1, 1], corr=[[1, -1], [-1, 1]]\n",
    "    ),\n",
    ")"
   ]
  },
  {
   "cell_type": "markdown",
   "metadata": {},
   "source": [
    "vector valued functions"
   ]
  },
  {
   "cell_type": "code",
   "execution_count": 23,
   "metadata": {},
   "outputs": [
    {
     "name": "stdout",
     "output_type": "stream",
     "text": [
      "vector valued: [0.2236068 0.2      ]\n"
     ]
    }
   ],
   "source": [
    "def my_function(x, y):\n",
    "    return [x + y, y]\n",
    "\n",
    "\n",
    "print(\n",
    "    \"vector valued:\",\n",
    "    propagate_errors(my_function, errors=[0.1, 0.2], x0=[1, 1]),\n",
    ")"
   ]
  }
 ],
 "metadata": {
  "kernelspec": {
   "display_name": ".venv",
   "language": "python",
   "name": "python3"
  },
  "language_info": {
   "codemirror_mode": {
    "name": "ipython",
    "version": 3
   },
   "file_extension": ".py",
   "mimetype": "text/x-python",
   "name": "python",
   "nbconvert_exporter": "python",
   "pygments_lexer": "ipython3",
   "version": "3.13.2"
  },
  "orig_nbformat": 4
 },
 "nbformat": 4,
 "nbformat_minor": 2
}
