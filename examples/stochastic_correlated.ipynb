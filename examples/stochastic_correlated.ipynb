{
 "cells": [
  {
   "cell_type": "code",
   "execution_count": 1,
   "metadata": {},
   "outputs": [],
   "source": [
    "from sensitivities.stochastic import sample, Gaussian, Uniform, Fixed\n",
    "import matplotlib.pyplot as plt\n",
    "import numpy as np"
   ]
  },
  {
   "cell_type": "markdown",
   "metadata": {},
   "source": [
    "stochastic uncertainty propagation with correlations"
   ]
  },
  {
   "cell_type": "code",
   "execution_count": 2,
   "metadata": {},
   "outputs": [
    {
     "data": {
      "image/png": "[encoded data removed]",
      "text/plain": [
       "<Figure size 640x480 with 1 Axes>"
      ]
     },
     "metadata": {},
     "output_type": "display_data"
    },
    {
     "name": "stdout",
     "output_type": "stream",
     "text": [
      "standard dev.: 0.631\n"
     ]
    }
   ],
   "source": [
    "def calibrate_signal(signal, gain, offset):\n",
    "    return (signal - offset) / gain\n",
    "\n",
    "\n",
    "# distributions for function parameters\n",
    "parameters = [\n",
    "    Fixed(100),\n",
    "    Gaussian(2, 0.01),  # gain uncertainty\n",
    "    Uniform(-2, 2),  # offset uncertainty\n",
    "]\n",
    "\n",
    "# correlation between function parameters\n",
    "corr = [(\"gain\", \"offset\", 0)]\n",
    "\n",
    "\n",
    "# monte carlo uncertainty propagation\n",
    "samples = sample(\n",
    "    calibrate_signal,\n",
    "    parameters,\n",
    "    corr=corr,\n",
    "    n=100000,\n",
    ")\n",
    "\n",
    "plt.hist(np.array(samples), 100)\n",
    "plt.show()\n",
    "\n",
    "print(f\"standard dev.: {np.std(samples):1.3f}\")"
   ]
  },
  {
   "cell_type": "markdown",
   "metadata": {},
   "source": [
    "compare to uncertainty propagation from linear sensitivities "
   ]
  },
  {
   "cell_type": "code",
   "execution_count": 4,
   "metadata": {},
   "outputs": [
    {
     "name": "stdout",
     "output_type": "stream",
     "text": [
      "linearly propagated uncertainty (1sigma): 0.629\n"
     ]
    }
   ],
   "source": [
    "from sensitivities.linear import propagate_uncertainties\n",
    "\n",
    "f_uncertainty = propagate_uncertainties(\n",
    "    calibrate_signal,\n",
    "    uncertainties=[p.std() for p in parameters],\n",
    "    x0=[p.mean() for p in parameters],\n",
    "    corr=[[1, 0, 0], [0, 1, corr[0][2]], [0, corr[0][2], 1]],\n",
    ")\n",
    "print(f\"linearly propagated uncertainty (1sigma): {f_uncertainty:1.3f}\")"
   ]
  }
 ],
 "metadata": {
  "kernelspec": {
   "display_name": ".venv",
   "language": "python",
   "name": "python3"
  },
  "language_info": {
   "codemirror_mode": {
    "name": "ipython",
    "version": 3
   },
   "file_extension": ".py",
   "mimetype": "text/x-python",
   "name": "python",
   "nbconvert_exporter": "python",
   "pygments_lexer": "ipython3",
   "version": "3.13.2"
  },
  "orig_nbformat": 4
 },
 "nbformat": 4,
 "nbformat_minor": 2
}
