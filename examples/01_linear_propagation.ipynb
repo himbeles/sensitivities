{
 "cells": [
  {
   "cell_type": "code",
   "execution_count": null,
   "metadata": {},
   "outputs": [],
   "source": [
    "from sensitivities.distributions import Gaussian, Uniform\n",
    "from sensitivities.linear import (\n",
    "    propagate_uncertainties,\n",
    "    propagate_uncertainty_distributions,\n",
    ")"
   ]
  },
  {
   "cell_type": "markdown",
   "metadata": {},
   "source": [
    "# Linear error propagation"
   ]
  },
  {
   "cell_type": "markdown",
   "metadata": {},
   "source": [
    "## Propagate standard uncertainties"
   ]
  },
  {
   "cell_type": "markdown",
   "metadata": {},
   "source": [
    "propagate **uncorrelated** uncertainties"
   ]
  },
  {
   "cell_type": "code",
   "execution_count": 2,
   "metadata": {},
   "outputs": [
    {
     "name": "stdout",
     "output_type": "stream",
     "text": [
      "uncorrelated: 0.223606797749979\n"
     ]
    }
   ],
   "source": [
    "def my_function(x, y):\n",
    "    return x + y\n",
    "\n",
    "\n",
    "print(\n",
    "    \"uncorrelated:\",\n",
    "    propagate_uncertainties(my_function, uncertainties=[0.1, 0.2], x0=[1, 1]),\n",
    ")"
   ]
  },
  {
   "cell_type": "markdown",
   "metadata": {},
   "source": [
    "propagate **correlated** uncertainties"
   ]
  },
  {
   "cell_type": "code",
   "execution_count": 3,
   "metadata": {},
   "outputs": [
    {
     "name": "stdout",
     "output_type": "stream",
     "text": [
      "positively correlated: 0.30000000000000004\n",
      "negatively correlated: 0.1\n"
     ]
    }
   ],
   "source": [
    "print(\n",
    "    \"positively correlated:\",\n",
    "    propagate_uncertainties(\n",
    "        my_function, uncertainties=[0.1, 0.2], x0=[1, 1], corr=[[1, 1], [1, 1]]\n",
    "    ),\n",
    ")\n",
    "print(\n",
    "    \"negatively correlated:\",\n",
    "    propagate_uncertainties(\n",
    "        my_function, uncertainties=[0.1, 0.2], x0=[1, 1], corr=[[1, -1], [-1, 1]]\n",
    "    ),\n",
    ")"
   ]
  },
  {
   "cell_type": "markdown",
   "metadata": {},
   "source": [
    "**multivariate** (vector-valued) functions"
   ]
  },
  {
   "cell_type": "code",
   "execution_count": null,
   "metadata": {},
   "outputs": [
    {
     "name": "stdout",
     "output_type": "stream",
     "text": [
      "uncertainties: [0.21447611 0.1        0.2       ]\n",
      "correlation:\n",
      "[[ 1.          0.37300192  0.88587957]\n",
      " [ 0.37300192  1.         -0.1       ]\n",
      " [ 0.88587957 -0.1         1.        ]]\n"
     ]
    }
   ],
   "source": [
    "def my_function(x, y):\n",
    "    return [x + y, x, y]\n",
    "\n",
    "\n",
    "unc, corr = propagate_uncertainties(\n",
    "    my_function, uncertainties=[0.1, 0.2], x0=[1, 1], corr=[[1, -0.1], [-0.1, 1]]\n",
    ")\n",
    "print(f\"uncertainties: {unc}\\ncorrelation:\\n{corr}\")"
   ]
  },
  {
   "cell_type": "markdown",
   "metadata": {},
   "source": [
    "## Propagate uncertainty distributions "
   ]
  },
  {
   "cell_type": "code",
   "execution_count": null,
   "metadata": {},
   "outputs": [
    {
     "name": "stdout",
     "output_type": "stream",
     "text": [
      "uncertainties: [0.21447611 0.1        0.37352557]\n",
      "correlation:\n",
      "[[ 1.          0.37300192  0.76260453]\n",
      " [ 0.37300192  1.         -0.05354386]\n",
      " [ 0.76260453 -0.05354386  1.        ]]\n"
     ]
    }
   ],
   "source": [
    "def my_function(x, y, a=None):\n",
    "    return [x + y, x, y + a]\n",
    "\n",
    "\n",
    "unc, corr = propagate_uncertainty_distributions(\n",
    "    my_function,\n",
    "    distributions_args=[Gaussian(1, 0.1), Gaussian(1, 0.2)],\n",
    "    distributions_kwargs={\"a\": Uniform(-0.4, 0.4)},\n",
    "    corr=[(\"x\", \"y\", -0.1), (\"a\", \"y\", 0.5)],\n",
    ")\n",
    "print(f\"uncertainties: {unc}\\ncorrelation:\\n{corr}\")"
   ]
  }
 ],
 "metadata": {
  "kernelspec": {
   "display_name": ".venv",
   "language": "python",
   "name": "python3"
  },
  "language_info": {
   "codemirror_mode": {
    "name": "ipython",
    "version": 3
   },
   "file_extension": ".py",
   "mimetype": "text/x-python",
   "name": "python",
   "nbconvert_exporter": "python",
   "pygments_lexer": "ipython3",
   "version": "3.13.2"
  },
  "orig_nbformat": 4
 },
 "nbformat": 4,
 "nbformat_minor": 2
}
