{
 "cells": [
  {
   "cell_type": "code",
   "execution_count": 2,
   "metadata": {},
   "outputs": [
    {
     "name": "stdout",
     "output_type": "stream",
     "text": [
      "[[2. 0.]\n",
      " [2. 3.]]\n",
      "[[[2. 0.]\n",
      "  [0. 0.]]\n",
      "\n",
      " [[0. 0.]\n",
      "  [0. 0.]]]\n",
      "Output errors:\n",
      "[[0.21000001 0.8       ]\n",
      " [0.2        0.8       ]]\n"
     ]
    }
   ],
   "source": [
    "from jax import jacobian,hessian\n",
    "import jax.numpy as np\n",
    "\n",
    "# Define your function\n",
    "def f(inputs):\n",
    "    x, y = inputs\n",
    "    return np.array([x**2, 2*x + 3*y])\n",
    "\n",
    "# Compute the Jacobian (sensitivity matrix) and Hessian\n",
    "J = jacobian(f)\n",
    "H = hessian(f)\n",
    "\n",
    "# Evaluate the Jacobian and Hessian at a specific point (e.g., x=1, y=2)\n",
    "point = np.array([1.0, 2.0])\n",
    "sensitivity_matrix = J(point)\n",
    "print(sensitivity_matrix)\n",
    "hessian_matrix = H(point)\n",
    "print(hessian_matrix)\n",
    "\n",
    "# Assume standard errors for x and y are 0.1 and 0.2, respectively\n",
    "standard_errors = np.array([0.1, 0.2])\n",
    "\n",
    "# Propagate the errors: linear contribution\n",
    "output_errors_linear = np.dot(sensitivity_matrix, standard_errors)\n",
    "\n",
    "# Propagate the errors: quadratic contribution\n",
    "output_errors_quadratic = np.dot(hessian_matrix, standard_errors**2) / 2\n",
    "\n",
    "# Total propagated error is the sum of the linear and quadratic contributions\n",
    "output_errors = output_errors_linear + output_errors_quadratic\n",
    "\n",
    "print(\"Output errors:\")\n",
    "print(output_errors)\n"
   ]
  },
  {
   "cell_type": "code",
   "execution_count": null,
   "metadata": {},
   "outputs": [],
   "source": []
  }
 ],
 "metadata": {
  "kernelspec": {
   "display_name": ".venv",
   "language": "python",
   "name": "python3"
  },
  "language_info": {
   "codemirror_mode": {
    "name": "ipython",
    "version": 3
   },
   "file_extension": ".py",
   "mimetype": "text/x-python",
   "name": "python",
   "nbconvert_exporter": "python",
   "pygments_lexer": "ipython3",
   "version": "3.11.2"
  },
  "orig_nbformat": 4
 },
 "nbformat": 4,
 "nbformat_minor": 2
}
